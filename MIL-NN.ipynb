{
 "cells": [
  {
   "cell_type": "code",
   "execution_count": 1,
   "metadata": {
    "collapsed": true
   },
   "outputs": [],
   "source": [
    "import pandas as pd\n",
    "import numpy as np\n",
    "import matplotlib.pyplot as plt\n",
    "import tensorflow as tf\n",
    "%matplotlib inline"
   ]
  },
  {
   "cell_type": "code",
   "execution_count": 2,
   "metadata": {
    "collapsed": false
   },
   "outputs": [],
   "source": [
    "data = pd.read_table('musk/clean2.data', header=None, delimiter=',')"
   ]
  },
  {
   "cell_type": "code",
   "execution_count": 3,
   "metadata": {
    "collapsed": false
   },
   "outputs": [],
   "source": [
    "names = np.unique(data[0])\n",
    "\n",
    "def get_train_test_data(train_idx):\n",
    "    X_train = []\n",
    "    y_train = []\n",
    "    X_test = []\n",
    "    y_test = []\n",
    "\n",
    "    for name in names[train_idx]:\n",
    "        idx = np.in1d(data[0], name)\n",
    "        X_train.append(data.values[idx, 2:-1])\n",
    "        y_train.append(max(data.values[idx, -1:]))\n",
    "\n",
    "    for name in names[~train_idx]:\n",
    "        idx = np.in1d(data[0], name)\n",
    "        X_test.append(data.values[idx, 2:-1])\n",
    "        y_test.append(max(data.values[idx, -1:]))\n",
    "        \n",
    "    return X_train, X_test, y_train, y_test"
   ]
  },
  {
   "cell_type": "code",
   "execution_count": 4,
   "metadata": {
    "collapsed": false
   },
   "outputs": [],
   "source": [
    "train_idx = np.array([True] * 80 + [False] * 22)\n",
    "np.random.seed(10)\n",
    "np.random.shuffle(train_idx)\n",
    "X_train, X_test, y_train, y_test = get_train_test_data(train_idx)"
   ]
  },
  {
   "cell_type": "code",
   "execution_count": 5,
   "metadata": {
    "collapsed": true
   },
   "outputs": [],
   "source": [
    "# Network Parameters\n",
    "n_input = 166 # input data size\n",
    "n_hidden_1 = 256 # 1st layer number of features\n",
    "n_hidden_2 = 128 # 2nd layer number of features\n",
    "n_hidden_3 = 32 # 3nd layer number of features\n",
    "n_hidden_4 = 1 # 4nd layer number of features\n",
    "\n",
    "# tf Graph input\n",
    "x = tf.placeholder(\"float\", [None, None, n_input])\n",
    "y = tf.placeholder(\"float\", [None])"
   ]
  },
  {
   "cell_type": "code",
   "execution_count": 6,
   "metadata": {
    "collapsed": true
   },
   "outputs": [],
   "source": [
    "def MILNeuralNetwork(multilayer_perceptron, learning_rate = 1e-03, training_epochs = 10,\n",
    "                     display_step = 1):\n",
    "    \n",
    "    # Store layers weight & bias\n",
    "    weights = {\n",
    "        'h1': tf.Variable(tf.random_normal([n_input, n_hidden_1])),\n",
    "        'h2': tf.Variable(tf.random_normal([n_hidden_1, n_hidden_2])),\n",
    "        'h3': tf.Variable(tf.random_normal([n_hidden_2, n_hidden_3])),\n",
    "        'h4': tf.Variable(tf.random_normal([n_hidden_3, n_hidden_4]))\n",
    "    }\n",
    "    biases = {\n",
    "        'b1': tf.Variable(tf.random_normal([n_hidden_1])),\n",
    "        'b2': tf.Variable(tf.random_normal([n_hidden_2])),\n",
    "        'b3': tf.Variable(tf.random_normal([n_hidden_3])),\n",
    "        'b4': tf.Variable(tf.random_normal([n_hidden_4]))\n",
    "    }\n",
    "\n",
    "    # Construct model\n",
    "    pred = multilayer_perceptron(x, weights, biases)\n",
    "\n",
    "    # Define loss and optimizer\n",
    "    cost = tf.reduce_mean(tf.nn.sigmoid_cross_entropy_with_logits(logits=pred, labels=y))\n",
    "    optimizer = tf.train.AdamOptimizer(learning_rate).minimize(cost)\n",
    "\n",
    "    # Initializing the variables\n",
    "    init = tf.global_variables_initializer()\n",
    "\n",
    "    # Launch the graph\n",
    "    with tf.Session() as sess:\n",
    "        sess.run(init)\n",
    "\n",
    "        accuracy_history = np.zeros(training_epochs)\n",
    "        order = np.arange(len(y_train))\n",
    "        # Training cycle\n",
    "        for epoch in range(training_epochs):\n",
    "            \n",
    "            avg_cost = 0\n",
    "            np.random.shuffle(order)\n",
    "            for i in order:\n",
    "                # Run optimization op (backprop) and cost op (to get loss value)\n",
    "                _, c = sess.run([optimizer, cost], feed_dict={x: X_train[i][np.newaxis], y: y_train[i]})\n",
    "\n",
    "                # Compute average loss\n",
    "                avg_cost += c / len(y_train)\n",
    "                # Display logs per epoch step\n",
    "#             if epoch % display_step == 0:\n",
    "#                 print \"Epoch:\", '%04d' % (epoch+1), \"cost=\", \\\n",
    "#                     \"{:.9f}\".format(avg_cost)\n",
    "\n",
    "            # Test model\n",
    "            # Calculate accuracy\n",
    "            correct_prediction = tf.equal(tf.cast(tf.greater(pred, 0.5), 'float'), y)\n",
    "            # Calculate accuracy\n",
    "            accuracy = tf.reduce_mean(tf.cast(correct_prediction, \"float\"))\n",
    "            for i in range(len(y_test)):\n",
    "                accuracy_history[epoch] += accuracy.eval({x: X_test[i][np.newaxis], y: y_test[i]}) / len(y_test)\n",
    "        \n",
    "        #print \"Optimization Finished!\"\n",
    "        print \"Accuracy:\", accuracy_history[-1]\n",
    "        \n",
    "        return accuracy_history"
   ]
  },
  {
   "cell_type": "code",
   "execution_count": 7,
   "metadata": {
    "collapsed": false,
    "scrolled": false
   },
   "outputs": [],
   "source": [
    "def perceptron(x, weights, biases):\n",
    "    # Hidden layer with RELU activation\n",
    "    layer_1 = tf.add(tf.tensordot(x, weights['h1'], axes=[[2],[0]]), biases['b1'])\n",
    "    layer_1 = tf.nn.sigmoid(layer_1)\n",
    "    \n",
    "    # Hidden layer with RELU activation\n",
    "    layer_2 = tf.add(tf.tensordot(layer_1, weights['h2'], axes=[[2],[0]]), biases['b2'])\n",
    "    layer_2 = tf.nn.sigmoid(layer_2)\n",
    "    \n",
    "    # Hidden layer with RELU activation\n",
    "    layer_3 = tf.add(tf.tensordot(layer_2, weights['h3'], axes=[[2],[0]]), biases['b3'])\n",
    "    layer_3 = tf.nn.sigmoid(layer_3)\n",
    "    \n",
    "    # Hidden layer with RELU activation\n",
    "    layer_4 = tf.add(tf.tensordot(layer_3, weights['h4'], axes=[[2],[0]]), biases['b4'])\n",
    "    layer_4 = tf.nn.sigmoid(layer_4)\n",
    "    \n",
    "    # Output layer\n",
    "    out_layer = tf.reduce_max(layer_4, reduction_indices=1)\n",
    "    \n",
    "    return out_layer"
   ]
  },
  {
   "cell_type": "code",
   "execution_count": 8,
   "metadata": {
    "collapsed": false
   },
   "outputs": [
    {
     "name": "stdout",
     "output_type": "stream",
     "text": [
      "Accuracy: 0.681818181818\n"
     ]
    }
   ],
   "source": [
    "accuracy = MILNeuralNetwork(multilayer_perceptron=perceptron, training_epochs=100)"
   ]
  },
  {
   "cell_type": "code",
   "execution_count": 9,
   "metadata": {
    "collapsed": false
   },
   "outputs": [
    {
     "data": {
      "image/png": "[encoded data removed]",
      "text/plain": [
       "<matplotlib.figure.Figure at 0x7f4a847f7150>"
      ]
     },
     "metadata": {},
     "output_type": "display_data"
    }
   ],
   "source": [
    "plt.figure(figsize=(8,5))\n",
    "plt.plot(accuracy)\n",
    "plt.show()"
   ]
  },
  {
   "cell_type": "code",
   "execution_count": 10,
   "metadata": {
    "collapsed": false
   },
   "outputs": [
    {
     "name": "stdout",
     "output_type": "stream",
     "text": [
      "Accuracy: 0.409090909091\n",
      "Accuracy: 0.454545454545\n",
      "Accuracy: 0.727272727273\n",
      "Accuracy: 0.636363636364\n",
      "Accuracy: 0.636363636364\n",
      "Accuracy: 0.636363636364\n",
      "Accuracy: 0.363636363636\n"
     ]
    },
    {
     "data": {
      "image/png": "[encoded data removed]",
      "text/plain": [
       "<matplotlib.figure.Figure at 0x7f4a846893d0>"
      ]
     },
     "metadata": {},
     "output_type": "display_data"
    }
   ],
   "source": [
    "accuracies = []\n",
    "plt.figure(figsize=(16,10))\n",
    "for lr in np.logspace(-5, 1, 7):\n",
    "    accuracies.append(MILNeuralNetwork(multilayer_perceptron=perceptron,\n",
    "                                       training_epochs=50, learning_rate=lr))\n",
    "    plt.plot(accuracies[-1], label=lr)\n",
    "\n",
    "plt.legend(loc='best')\n",
    "plt.ylim([0.0, 1.0])\n",
    "plt.show()"
   ]
  },
  {
   "cell_type": "code",
   "execution_count": 11,
   "metadata": {
    "collapsed": false
   },
   "outputs": [
    {
     "name": "stdout",
     "output_type": "stream",
     "text": [
      "Accuracy: 0.909090909091\n",
      "Accuracy: 0.909090909091\n",
      "Accuracy: 0.6\n",
      "Accuracy: 0.8\n",
      "Accuracy: 0.8\n",
      "Accuracy: 0.4\n",
      "Accuracy: 0.8\n",
      "Accuracy: 0.7\n",
      "Accuracy: 0.7\n",
      "Accuracy: 0.8\n"
     ]
    }
   ],
   "source": [
    "from sklearn.model_selection import KFold\n",
    "\n",
    "kf = KFold(n_splits=10, shuffle=True)\n",
    "np.random.seed(1)\n",
    "\n",
    "accuracies = []\n",
    "for train_idx, test_idx in kf.split(names):\n",
    "\n",
    "    train_names = names[train_idx]\n",
    "    train_idx = np.in1d(names, train_names) \n",
    "    X_train, X_test, y_train, y_test = get_train_test_data(train_idx)\n",
    "    accuracies.append(MILNeuralNetwork(multilayer_perceptron=perceptron, training_epochs=75,\n",
    "                                      learning_rate=1e-03))\n",
    "    \n",
    "#print np.round(accuracies, decimals=2)"
   ]
  },
  {
   "cell_type": "code",
   "execution_count": 12,
   "metadata": {
    "collapsed": false
   },
   "outputs": [
    {
     "name": "stdout",
     "output_type": "stream",
     "text": [
      "10-Fold accuracy: 0.741818181818+-0.144896657388\n"
     ]
    }
   ],
   "source": [
    "print '10-Fold accuracy: {0}+-{1}'.format(np.mean(np.array(accuracies)[:,-1]),\n",
    "                                          np.std(np.array(accuracies)[:,-1]))"
   ]
  },
  {
   "cell_type": "markdown",
   "metadata": {
    "collapsed": true
   },
   "source": [
    "## Padding NN\n",
    "\n",
    "To evade learning with batch_size=1, let's use tensor of shape (n_bags, max_n_instances, n_features), where if number of instances for some bag is less then max_n_instances, we pad the rest part of our tensor with 0."
   ]
  },
  {
   "cell_type": "code",
   "execution_count": 13,
   "metadata": {
    "collapsed": false
   },
   "outputs": [],
   "source": [
    "max_n_instances = 1044 # maximal number of instances for bag\n",
    "n_features = 166\n",
    "n_bags = 102\n",
    "\n",
    "X_data = np.zeros((n_bags, max_n_instances, n_features))\n",
    "y_data = np.zeros(n_bags)\n",
    "names = np.unique(data[0])\n",
    "\n",
    "for i, name in enumerate(names):\n",
    "    idx = np.in1d(data[0], name)\n",
    "    temp = np.array(data.values[idx, 2:-1])\n",
    "    temp.resize((max_n_instances, n_features))\n",
    "    X_data[i] = temp\n",
    "    y_data[i] = np.max(data.values[idx, -1:])"
   ]
  },
  {
   "cell_type": "code",
   "execution_count": 14,
   "metadata": {
    "collapsed": true
   },
   "outputs": [],
   "source": [
    "np.random.seed(1)\n",
    "from sklearn.model_selection import train_test_split\n",
    "X_train, X_test, y_train, y_test = train_test_split(X_data, y_data)"
   ]
  },
  {
   "cell_type": "code",
   "execution_count": 15,
   "metadata": {
    "collapsed": true
   },
   "outputs": [],
   "source": [
    "# Network Parameters\n",
    "n_input = n_features # input data size\n",
    "n_hidden_1 = 256 # 1st layer number of features\n",
    "n_hidden_2 = 128 # 2nd layer number of features\n",
    "n_hidden_3 = 32 # 3nd layer number of features\n",
    "n_hidden_4 = 1 # 4nd layer number of features\n",
    "\n",
    "# tf Graph input\n",
    "x = tf.placeholder(\"float\", [None, max_n_instances, n_input])\n",
    "y = tf.placeholder(\"float\", [None])"
   ]
  },
  {
   "cell_type": "code",
   "execution_count": 16,
   "metadata": {
    "collapsed": true
   },
   "outputs": [],
   "source": [
    "def perceptron_pad(x, weights, biases):\n",
    "    # Hidden layer with RELU activation\n",
    "    layer_1 = tf.add(tf.tensordot(x, weights['h1'], axes=[[2],[0]]), biases['b1'])\n",
    "    layer_1 = tf.nn.sigmoid(layer_1)\n",
    "    \n",
    "    # Hidden layer with RELU activation\n",
    "    layer_2 = tf.add(tf.tensordot(layer_1, weights['h2'], axes=[[2],[0]]), biases['b2'])\n",
    "    layer_2 = tf.nn.sigmoid(layer_2)\n",
    "    \n",
    "    # Hidden layer with RELU activation\n",
    "    layer_3 = tf.add(tf.tensordot(layer_2, weights['h3'], axes=[[2],[0]]), biases['b3'])\n",
    "    layer_3 = tf.nn.sigmoid(layer_3)\n",
    "    \n",
    "    # Hidden layer with RELU activation\n",
    "    layer_4 = tf.add(tf.tensordot(layer_3, weights['h4'], axes=[[2],[0]]), biases['b4'])\n",
    "    layer_4 = tf.nn.sigmoid(layer_4)\n",
    "    mask = tf.sign(tf.reduce_max(tf.abs(x), reduction_indices=2))\n",
    "    layer_4 = tf.multiply(tf.reduce_max(layer_4, reduction_indices=2), mask)\n",
    "\n",
    "    # Output layer\n",
    "    out_layer = tf.reduce_max(layer_4, reduction_indices=1)\n",
    "\n",
    "    return out_layer"
   ]
  },
  {
   "cell_type": "code",
   "execution_count": 17,
   "metadata": {
    "collapsed": false
   },
   "outputs": [],
   "source": [
    "def PadMILNeuralNetwork(multilayer_perceptron, learning_rate = 1e-03, training_epochs = 10,\n",
    "                        display_step = 1):\n",
    "    \n",
    "    # Store layers weight & bias\n",
    "    weights = {\n",
    "        'h1': tf.Variable(tf.random_normal([n_input, n_hidden_1])),\n",
    "        'h2': tf.Variable(tf.random_normal([n_hidden_1, n_hidden_2])),\n",
    "        'h3': tf.Variable(tf.random_normal([n_hidden_2, n_hidden_3])),\n",
    "        'h4': tf.Variable(tf.random_normal([n_hidden_3, n_hidden_4]))\n",
    "    }\n",
    "    biases = {\n",
    "        'b1': tf.Variable(tf.random_normal([n_hidden_1])),\n",
    "        'b2': tf.Variable(tf.random_normal([n_hidden_2])),\n",
    "        'b3': tf.Variable(tf.random_normal([n_hidden_3])),\n",
    "        'b4': tf.Variable(tf.random_normal([n_hidden_4]))\n",
    "    }\n",
    "\n",
    "    # Construct model\n",
    "    pred = multilayer_perceptron(x, weights, biases)\n",
    "\n",
    "    # Define loss and optimizer\n",
    "    cost = tf.reduce_mean(tf.nn.sigmoid_cross_entropy_with_logits(logits=pred, labels=y))\n",
    "    optimizer = tf.train.AdamOptimizer(learning_rate=learning_rate).minimize(cost)\n",
    "\n",
    "    # Initializing the variables\n",
    "    init = tf.global_variables_initializer()\n",
    "\n",
    "    # Launch the graph\n",
    "    with tf.Session() as sess:\n",
    "        sess.run(init)\n",
    "\n",
    "        accuracy_history = np.zeros(training_epochs)\n",
    "        # Training cycle\n",
    "        for epoch in range(training_epochs):\n",
    "            \n",
    "            # Run optimization op (backprop) and cost op (to get loss value)\n",
    "            _, c = sess.run([optimizer, cost], feed_dict={x: X_train, y: y_train})\n",
    "\n",
    "            # Display logs per epoch step\n",
    "#             if epoch % display_step == 0:\n",
    "#                 print \"Epoch:\", '%04d' % (epoch+1), \"cost=\", \\\n",
    "#                     \"{:.9f}\".format(c)\n",
    "\n",
    "            # Test model\n",
    "            # Calculate accuracy\n",
    "            correct_prediction = tf.equal(tf.cast(tf.greater(pred, 0.5), 'float'), y)\n",
    "            # Calculate accuracy\n",
    "            accuracy = tf.reduce_mean(tf.cast(correct_prediction, \"float\"))\n",
    "            accuracy_history[epoch] += accuracy.eval({x: X_test, y: y_test})\n",
    "        \n",
    "        #print pred.eval({x: X_test, y: y_test})\n",
    "        #print \"Optimization Finished!\"\n",
    "        print \"Accuracy:\", accuracy_history[-1]\n",
    "        \n",
    "        return accuracy_history"
   ]
  },
  {
   "cell_type": "code",
   "execution_count": 18,
   "metadata": {
    "collapsed": false,
    "scrolled": false
   },
   "outputs": [
    {
     "name": "stdout",
     "output_type": "stream",
     "text": [
      "Accuracy: 0.615384638309\n"
     ]
    }
   ],
   "source": [
    "accuracy = PadMILNeuralNetwork(multilayer_perceptron=perceptron_pad, training_epochs=100)"
   ]
  },
  {
   "cell_type": "code",
   "execution_count": 19,
   "metadata": {
    "collapsed": false
   },
   "outputs": [
    {
     "data": {
      "image/png": "[encoded data removed]",
      "text/plain": [
       "<matplotlib.figure.Figure at 0x7f4a42453590>"
      ]
     },
     "metadata": {},
     "output_type": "display_data"
    }
   ],
   "source": [
    "plt.figure(figsize=(8,5))\n",
    "plt.plot(accuracy)\n",
    "plt.show()"
   ]
  },
  {
   "cell_type": "code",
   "execution_count": 20,
   "metadata": {
    "collapsed": false
   },
   "outputs": [
    {
     "name": "stdout",
     "output_type": "stream",
     "text": [
      "Accuracy: 0.269230782986\n",
      "Accuracy: 0.269230782986\n",
      "Accuracy: 0.461538463831\n",
      "Accuracy: 0.692307710648\n",
      "Accuracy: 0.730769217014\n",
      "Accuracy: 0.730769217014\n",
      "Accuracy: 0.730769217014\n"
     ]
    },
    {
     "data": {
      "image/png": "[encoded data removed]",
      "text/plain": [
       "<matplotlib.figure.Figure at 0x7f4a4239b350>"
      ]
     },
     "metadata": {},
     "output_type": "display_data"
    }
   ],
   "source": [
    "accuracies = []\n",
    "plt.figure(figsize=(16,10))\n",
    "for lr in np.logspace(-5, 1, 7):\n",
    "    accuracies.append(PadMILNeuralNetwork(multilayer_perceptron=perceptron_pad,\n",
    "                                       training_epochs=30, learning_rate=lr))\n",
    "    plt.plot(accuracies[-1], label=lr)\n",
    "\n",
    "plt.legend(loc='best')\n",
    "plt.ylim([0.0, 1.0])\n",
    "plt.show()"
   ]
  },
  {
   "cell_type": "code",
   "execution_count": 23,
   "metadata": {
    "collapsed": false
   },
   "outputs": [
    {
     "name": "stdout",
     "output_type": "stream",
     "text": [
      "Accuracy: 0.909090936184\n",
      "Accuracy: 0.636363625526\n",
      "Accuracy: 0.600000023842\n",
      "Accuracy: 0.699999988079\n",
      "Accuracy: 0.800000011921\n",
      "Accuracy: 0.5\n",
      "Accuracy: 0.699999988079\n",
      "Accuracy: 0.699999988079\n",
      "Accuracy: 0.600000023842\n",
      "Accuracy: 0.40000000596\n",
      "10-Fold accuracy: 0.654545459151+-0.136787223155\n"
     ]
    }
   ],
   "source": [
    "from sklearn.model_selection import KFold\n",
    "\n",
    "kf = KFold(n_splits=10, shuffle=True)\n",
    "np.random.seed(1)\n",
    "\n",
    "accuracies = []\n",
    "for train_idx, test_idx in kf.split(X_data, y_data):\n",
    "\n",
    "    X_train = X_data[train_idx]\n",
    "    X_test = X_data[test_idx]\n",
    "    y_train = y_data[train_idx]\n",
    "    y_test = y_data[test_idx]\n",
    "    accuracies.append(PadMILNeuralNetwork(multilayer_perceptron=perceptron_pad, training_epochs=30,\n",
    "                                          learning_rate=5e-03))\n",
    "\n",
    "print '10-Fold accuracy: {0}+-{1}'.format(np.mean(np.array(accuracies)[:,-1]),\n",
    "                                          np.std(np.array(accuracies)[:,-1]))"
   ]
  },
  {
   "cell_type": "code",
   "execution_count": null,
   "metadata": {
    "collapsed": false
   },
   "outputs": [],
   "source": [
    "# accuracy = PadMILNeuralNetwork(multilayer_perceptron=perceptron_pad, training_epochs=1000)\n",
    "\n",
    "# plt.figure(figsize=(8,5))\n",
    "# plt.plot(accuracy)\n",
    "# plt.ylim([0.0, 1.0])\n",
    "# plt.show()"
   ]
  },
  {
   "cell_type": "markdown",
   "metadata": {},
   "source": [
    "## References\n",
    "\n",
    "[1] https://arxiv.org/pdf/1610.02501.pdf\n",
    "\n",
    "[2] http://cs.nju.edu.cn/zhouzh/zhouzh.files/publication/techrep02.pdf\n",
    "\n",
    "[3] https://arxiv.org/pdf/1609.07257.pdf\n",
    "\n",
    "[4] https://danijar.com/variable-sequence-lengths-in-tensorflow/"
   ]
  },
  {
   "cell_type": "code",
   "execution_count": null,
   "metadata": {
    "collapsed": true
   },
   "outputs": [],
   "source": []
  }
 ],
 "metadata": {
  "kernelspec": {
   "display_name": "Python 2",
   "language": "python",
   "name": "python2"
  },
  "language_info": {
   "codemirror_mode": {
    "name": "ipython",
    "version": 2
   },
   "file_extension": ".py",
   "mimetype": "text/x-python",
   "name": "python",
   "nbconvert_exporter": "python",
   "pygments_lexer": "ipython2",
   "version": "2.7.13"
  }
 },
 "nbformat": 4,
 "nbformat_minor": 2
}
